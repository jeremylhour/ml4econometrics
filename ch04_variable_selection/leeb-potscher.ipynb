{
 "cells": [
  {
   "cell_type": "markdown",
   "metadata": {},
   "source": [
    "# Distribution of the post-selection estimator"
   ]
  },
  {
   "cell_type": "markdown",
   "metadata": {},
   "source": [
    "Based on Leeb and Potscher (2006). Figures 4.1 and 4.2 of the textbook\n",
    "\n",
    "@author: jeremylhour"
   ]
  },
  {
   "cell_type": "code",
   "execution_count": null,
   "metadata": {},
   "outputs": [],
   "source": [
    "import numpy as np\n",
    "import matplotlib.pyplot as plt\n",
    "from scipy.stats import norm"
   ]
  },
  {
   "cell_type": "markdown",
   "metadata": {},
   "source": [
    "# Functions"
   ]
  },
  {
   "cell_type": "code",
   "execution_count": null,
   "metadata": {},
   "outputs": [],
   "source": [
    "def delta(x, y):\n",
    "  return norm.cdf(x+y) - norm.cdf(x-y)\n",
    "\n",
    "def post_selection_density(x, beta: float = .5, rho: float = .7, n: int = 100):\n",
    "  c = np.sqrt(np.log(n))\n",
    "  proba_r = delta(np.sqrt(n) * beta, c)\n",
    "  y = proba_r * norm.pdf(x, loc=-rho * np.sqrt(n) * beta, scale=np.sqrt(1 - rho ** 2))\n",
    "  y += (1 - delta((np.sqrt(n) * beta + rho * x) / np.sqrt(1 - rho ** 2), c / np.sqrt(1 - rho ** 2))) * norm.pdf(x)\n",
    "  return y\n",
    "\n",
    "LINESTYLES = {\n",
    "  .5: \"solid\",\n",
    "  .3: \"dashed\",\n",
    "  .2: \"dotted\",\n",
    "  .1: \"dashdot\"\n",
    "}\n",
    "\n",
    "COLORS = {\n",
    "  .5: \"black\",\n",
    "  .3: \"red\",\n",
    "  .2: \"green\",\n",
    "  .1: \"blue\"\n",
    "}"
   ]
  },
  {
   "cell_type": "markdown",
   "metadata": {},
   "source": [
    "# RHO = .7"
   ]
  },
  {
   "cell_type": "code",
   "execution_count": null,
   "metadata": {},
   "outputs": [],
   "source": [
    "x = np.arange(-3, 3, step=.1)\n",
    "y = {beta: post_selection_density(x, beta) for beta in [.5, .3, .2, .1]}\n",
    "    "
   ]
  },
  {
   "cell_type": "code",
   "execution_count": null,
   "metadata": {},
   "outputs": [],
   "source": [
    "fig, ax = plt.subplots(1, 1, figsize=(10, 8), dpi=300)\n",
    "\n",
    "for k, v in y.items():\n",
    "    ax.plot(x, v, linestyle=LINESTYLES[k], color=COLORS[k])\n",
    "\n",
    "ax.legend(labels=y.keys(), loc='best')"
   ]
  },
  {
   "cell_type": "markdown",
   "metadata": {},
   "source": [
    "# RHO = .9"
   ]
  },
  {
   "cell_type": "code",
   "execution_count": null,
   "metadata": {},
   "outputs": [],
   "source": [
    "y = {beta: post_selection_density(x, beta, rho=.9) for beta in [.5, .3, .2, .1]}\n",
    "\n",
    "fig, ax = plt.subplots(1, 1, figsize=(10, 8), dpi=300)\n",
    "\n",
    "for k, v in y.items():\n",
    "    ax.plot(x, v, linestyle=LINESTYLES[k], color=COLORS[k])\n",
    "\n",
    "ax.legend(labels=y.keys(), loc='best')"
   ]
  },
  {
   "cell_type": "markdown",
   "metadata": {},
   "source": [
    "# RHO = .4"
   ]
  },
  {
   "cell_type": "code",
   "execution_count": null,
   "metadata": {},
   "outputs": [],
   "source": [
    "y = {beta: post_selection_density(x, beta, rho=.4) for beta in [.5, .3, .2, .1]}\n",
    "\n",
    "fig, ax = plt.subplots(1, 1, figsize=(10, 8), dpi=300)\n",
    "\n",
    "for k, v in y.items():\n",
    "    ax.plot(x, v, linestyle=LINESTYLES[k], color=COLORS[k])\n",
    "\n",
    "ax.legend(labels=y.keys(), loc='best')"
   ]
  }
 ],
 "metadata": {
  "kernelspec": {
   "display_name": "ml4econometrics",
   "language": "python",
   "name": "python3"
  },
  "language_info": {
   "codemirror_mode": {
    "name": "ipython",
    "version": 3
   },
   "file_extension": ".py",
   "mimetype": "text/x-python",
   "name": "python",
   "nbconvert_exporter": "python",
   "pygments_lexer": "ipython3",
   "version": "3.12.0"
  }
 },
 "nbformat": 4,
 "nbformat_minor": 4
}
