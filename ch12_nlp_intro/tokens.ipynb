{
 "cells": [
  {
   "cell_type": "markdown",
   "id": "16634181-3c5f-4ddf-a108-48d4054a3903",
   "metadata": {},
   "source": [
    "# Tokenization"
   ]
  },
  {
   "cell_type": "code",
   "execution_count": 22,
   "id": "a447f0d8-f87f-4490-abba-d953076278b9",
   "metadata": {},
   "outputs": [],
   "source": [
    "from nltk.corpus import stopwords\n",
    "from nltk import word_tokenize\n",
    "from nltk.stem.snowball import SnowballStemmer"
   ]
  },
  {
   "cell_type": "code",
   "execution_count": 7,
   "id": "9445f20c-9a16-45cd-81df-21b841dad39f",
   "metadata": {},
   "outputs": [
    {
     "name": "stdout",
     "output_type": "stream",
     "text": [
      "Of all the ways to eat eggs, my favourite is the most fussy: devilled, the art of scooping out hard-boiled eggs and re-stuffing them with a jazzed-up yolk mixture.\n"
     ]
    }
   ],
   "source": [
    "data = \"Of all the ways to eat eggs, my favourite is the most fussy: devilled, the art of scooping out hard-boiled eggs and re-stuffing them with a jazzed-up yolk mixture.\"\n",
    "print(data)"
   ]
  },
  {
   "cell_type": "code",
   "execution_count": 8,
   "id": "0f494337-7ac7-451c-8bee-74f966a883a1",
   "metadata": {},
   "outputs": [
    {
     "name": "stdout",
     "output_type": "stream",
     "text": [
      "of all the ways to eat eggs, my favourite is the most fussy: devilled, the art of scooping out hard-boiled eggs and re-stuffing them with a jazzed-up yolk mixture.\n"
     ]
    }
   ],
   "source": [
    "# Mise en minuscule\n",
    "data = data.lower()\n",
    "print(data)"
   ]
  },
  {
   "cell_type": "code",
   "execution_count": 19,
   "id": "185d5b1d-007f-4761-bcec-ced2502517e2",
   "metadata": {},
   "outputs": [
    {
     "name": "stdout",
     "output_type": "stream",
     "text": [
      "Number of tokens: 28\n",
      "[',', '.', ':', 'a', 'all', 'and', 'art', 'devilled', 'eat', 'eggs', 'favourite', 'fussy', 'hard-boiled', 'is', 'jazzed-up', 'mixture', 'most', 'my', 'of', 'out', 're-stuffing', 'scooping', 'the', 'them', 'to', 'ways', 'with', 'yolk']\n"
     ]
    }
   ],
   "source": [
    "# Définition des tokens\n",
    "dico = set(word_tokenize(data, language=\"english\"))\n",
    "print(f\"Number of tokens: {len(dico)}\")\n",
    "print(sorted(dico))"
   ]
  },
  {
   "cell_type": "code",
   "execution_count": 23,
   "id": "4bf1fa28-847c-498b-af76-6527c4c6e185",
   "metadata": {},
   "outputs": [
    {
     "name": "stdout",
     "output_type": "stream",
     "text": [
      "Number of tokens: 16\n",
      "[',', '.', ':', 'art', 'devilled', 'eat', 'eggs', 'favourite', 'fussy', 'hard-boiled', 'jazzed-up', 'mixture', 're-stuffing', 'scooping', 'ways', 'yolk']\n"
     ]
    }
   ],
   "source": [
    "# Exclusion des stop-words\n",
    "en_stopwords = stopwords.words('english')\n",
    "trimmed_dico = [mot for mot in dico if not mot in en_stopwords]\n",
    "print(f\"Number of tokens: {len(trimmed_dico)}\")\n",
    "print(sorted(trimmed_dico))"
   ]
  },
  {
   "cell_type": "code",
   "execution_count": 25,
   "id": "9d8e1ef1-b54c-49f0-80db-9d0b4096a026",
   "metadata": {},
   "outputs": [
    {
     "name": "stdout",
     "output_type": "stream",
     "text": [
      "[',', '.', ':', 'art', 'devil', 'eat', 'egg', 'favourit', 'fussi', 'hard-boil', 'jazzed-up', 'mixtur', 're-stuf', 'scoop', 'way', 'yolk']\n"
     ]
    }
   ],
   "source": [
    "# Racinisation\n",
    "stemmer = SnowballStemmer(language='english')\n",
    "stemmed_dico = [stemmer.stem(mot) for mot in trimmed_dico]\n",
    "print(sorted(stemmed_dico))"
   ]
  },
  {
   "cell_type": "code",
   "execution_count": null,
   "id": "41fdf5bd-7850-4988-a53f-c8978a15acdd",
   "metadata": {},
   "outputs": [],
   "source": []
  }
 ],
 "metadata": {
  "kernelspec": {
   "display_name": "Python 3 (ipykernel)",
   "language": "python",
   "name": "python3"
  },
  "language_info": {
   "codemirror_mode": {
    "name": "ipython",
    "version": 3
   },
   "file_extension": ".py",
   "mimetype": "text/x-python",
   "name": "python",
   "nbconvert_exporter": "python",
   "pygments_lexer": "ipython3",
   "version": "3.12.0"
  }
 },
 "nbformat": 4,
 "nbformat_minor": 5
}
