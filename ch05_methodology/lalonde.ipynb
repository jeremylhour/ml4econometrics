{
 "cells": [
  {
   "cell_type": "markdown",
   "metadata": {},
   "source": [
    "# Section 5.5: Empirical application, job training program"
   ]
  },
  {
   "cell_type": "code",
   "execution_count": 1,
   "metadata": {},
   "outputs": [],
   "source": [
    "import numpy as np\n",
    "import pandas as pd\n",
    "import matplotlib.pyplot as plt\n",
    "from tqdm import tqdm\n",
    "\n",
    "from sklearn.preprocessing import PolynomialFeatures, MinMaxScaler\n",
    "from sklearn.pipeline import Pipeline\n",
    "from sklearn.compose import ColumnTransformer\n",
    "from sklearn.linear_model import LogisticRegressionCV, LassoCV, RidgeCV\n",
    "from sklearn.ensemble import RandomForestRegressor, GradientBoostingRegressor\n",
    "\n",
    "from ml4econometrics.ols import OLS\n",
    "from ml4econometrics.penalized_regressions import Lasso, LogitLasso, BCHLasso\n",
    "from ml4econometrics.pipelines import standardize"
   ]
  },
  {
   "cell_type": "code",
   "execution_count": 2,
   "metadata": {},
   "outputs": [],
   "source": [
    "#------------------------------------------------------\n",
    "# ATT function\n",
    "#------------------------------------------------------\n",
    "def att(y, d, y_hat, d_hat, group_idx=None):\n",
    "    \"\"\"\n",
    "    att:\n",
    "        Compute average treatment effect estimator,\n",
    "        and its standard error.\n",
    "    Args:\n",
    "        y (np.array): outcome.\n",
    "        d (np.array): Treatment status.\n",
    "        y_hat (np.array): Prediction of Y from X.\n",
    "        d_hat (np.array): Propensity score.\n",
    "        group_idx (np.array): Group indicator.\n",
    "    \"\"\"\n",
    "    gamma = np.empty_like(y)\n",
    "    if group_idx is not None:\n",
    "        y = y[group_idx]\n",
    "        d = d[group_idx]\n",
    "        y_hat = y_hat[group_idx]\n",
    "        d_hat = d_hat[group_idx]\n",
    "\n",
    "    pi = d.mean()\n",
    "    gamma[group_idx] = (d - (1 - d) * d_hat / (1 - d_hat)) * (y - y_hat) / pi\n",
    "    gamma[~group_idx] = np.nan\n",
    "    return gamma"
   ]
  },
  {
   "cell_type": "markdown",
   "metadata": {},
   "source": [
    "# Data"
   ]
  },
  {
   "cell_type": "code",
   "execution_count": 3,
   "metadata": {},
   "outputs": [
    {
     "data": {
      "text/plain": [
       "sample\n",
       "psid            2490\n",
       "experimental     260\n",
       "treated          185\n",
       "Name: count, dtype: int64"
      ]
     },
     "execution_count": 3,
     "metadata": {},
     "output_type": "execute_result"
    }
   ],
   "source": [
    "COLUMNS = [\n",
    "    \"treated\",\n",
    "    \"age\",\n",
    "    \"education\",\n",
    "    \"black\",\n",
    "    \"hispanic\",\n",
    "    \"married\",\n",
    "    \"nodegree\",\n",
    "    \"re74\",\n",
    "    \"re75\",\n",
    "    \"re78\",\n",
    "]\n",
    "\n",
    "COVARIATES = [\"age\", \"education\", \"black\", \"hispanic\", \"married\", \"nodegree\", \"re74\", \"re75\", \"noincome74\", \"noincome74\"]\n",
    "\n",
    "FILES = {\n",
    "    \"treated\": \"http://www.nber.org/~rdehejia/data/nswre74_treated.txt\",\n",
    "    \"experimental\": \"http://www.nber.org/~rdehejia/data/nswre74_control.txt\",\n",
    "    \"psid\": \"http://www.nber.org/~rdehejia/data/psid_controls.txt\"\n",
    "}\n",
    "\n",
    "df = pd.concat([\n",
    "    (\n",
    "        pd.read_csv(v, sep=r\"\\s+\", names=COLUMNS)\n",
    "        .assign(sample = k)\n",
    "        .assign(noincome74 = lambda x: 1*(x[\"re74\"] == 0))\n",
    "        .assign(noincome75 = lambda x: 1*(x[\"re75\"] == 0))\n",
    "        ) for k, v in FILES.items()\n",
    "], axis=0).reset_index(drop=True)\n",
    "\n",
    "df[\"sample\"].value_counts()"
   ]
  },
  {
   "cell_type": "markdown",
   "metadata": {},
   "source": [
    "# Baseline: experimental estimator"
   ]
  },
  {
   "cell_type": "code",
   "execution_count": 4,
   "metadata": {},
   "outputs": [
    {
     "name": "stdout",
     "output_type": "stream",
     "text": [
      "Experimental estimate is 1794.34 USD with an std of 632.14 USD.\n"
     ]
    }
   ],
   "source": [
    "y = df.query(\"sample in ('treated', 'experimental')\")[\"re78\"].values\n",
    "d = df.query(\"sample in ('treated', 'experimental')\")[\"treated\"].values\n",
    "\n",
    "ols = OLS()\n",
    "ols.fit(d.reshape(-1, 1), y)\n",
    "ols.compute_std(d.reshape(-1, 1), y, robust=False)\n",
    "\n",
    "print(f\"Experimental estimate is {ols.coef_[0]:.2f} USD with an std of {ols.std[1]:.2f} USD.\")"
   ]
  },
  {
   "cell_type": "markdown",
   "metadata": {},
   "source": [
    "# Data preparation"
   ]
  },
  {
   "cell_type": "markdown",
   "metadata": {},
   "source": [
    "## Feature transformation"
   ]
  },
  {
   "cell_type": "code",
   "execution_count": 5,
   "metadata": {},
   "outputs": [
    {
     "name": "stdout",
     "output_type": "stream",
     "text": [
      "Shape after transformation: (2675, 189).\n",
      "Shape after removing constant features: (2675, 183).\n",
      "Number of zero singular values: 0.\n"
     ]
    },
    {
     "data": {
      "image/png": "[encoded data removed]",
      "text/plain": [
       "<Figure size 640x480 with 1 Axes>"
      ]
     },
     "metadata": {},
     "output_type": "display_data"
    }
   ],
   "source": [
    "pipe = ColumnTransformer([\n",
    "    (\n",
    "        'continuous',\n",
    "        Pipeline([\n",
    "            (\"polynomial\", PolynomialFeatures(degree=5)),\n",
    "            (\"min_max_scaler\", MinMaxScaler())\n",
    "        ]),\n",
    "        [\"age\", \"education\", \"re74\", \"re75\"]\n",
    "    ),\n",
    "    (\n",
    "        'interactions',\n",
    "        Pipeline([\n",
    "            (\"polynomial\", PolynomialFeatures(degree=2, interaction_only=True)),\n",
    "            (\"min_max_scaler\", MinMaxScaler())\n",
    "        ]),\n",
    "        COVARIATES\n",
    "    ),\n",
    "    (\n",
    "        'discrete',\n",
    "        Pipeline([\n",
    "            (\"polynomial\", PolynomialFeatures(degree=1, interaction_only=False)),\n",
    "        ]),\n",
    "        ['black', 'hispanic', 'married', 'nodegree', 'noincome74', 'noincome75']\n",
    "    )\n",
    "])\n",
    "X = pipe.fit_transform(df.query(\"sample in ('treated', 'psid')\"))\n",
    "print(f\"Shape after transformation: {X.shape}.\")\n",
    "\n",
    "X = X[:, X.std(axis=0) != 0]\n",
    "print(f\"Shape after removing constant features: {X.shape}.\")\n",
    "\n",
    "u, w, vt = np.linalg.svd(X)\n",
    "e_ = w ** 2\n",
    "e_ /= e_.sum()\n",
    "\n",
    "_ = plt.hist(e_, bins=30, log=True)\n",
    "plt.title(\"Histogram of feature eigenvalues (log scale)\")\n",
    "print(f\"Number of zero singular values: {(e_==0).sum():.0f}.\")"
   ]
  },
  {
   "cell_type": "code",
   "execution_count": 15,
   "metadata": {},
   "outputs": [],
   "source": [
    "y = df.query(\"sample in ('treated', 'psid')\")[\"re78\"].values\n",
    "std_y = y.std()\n",
    "mean_y = y.mean()\n",
    "y = (y - mean_y) / std_y\n",
    "\n",
    "d = df.query(\"sample in ('treated', 'psid')\")[\"treated\"].astype(\"int\").values"
   ]
  },
  {
   "cell_type": "markdown",
   "metadata": {},
   "source": [
    "## Folds"
   ]
  },
  {
   "cell_type": "code",
   "execution_count": 16,
   "metadata": {},
   "outputs": [],
   "source": [
    "n = len(X)\n",
    "n_folds = 5   # nb folds\n",
    "np.random.seed(99999)\n",
    "\n",
    "# Generate random split\n",
    "cvgroup = np.digitize(np.random.rand(n), np.linspace(0, 1, n_folds + 1))"
   ]
  },
  {
   "cell_type": "markdown",
   "metadata": {},
   "source": [
    "## Estimators"
   ]
  },
  {
   "cell_type": "code",
   "execution_count": 11,
   "metadata": {},
   "outputs": [],
   "source": [
    "estimators ={\n",
    "    \"farrell (2015)\": {\n",
    "        \"treatment\": Lasso(max_iter=10_000),\n",
    "        \"outcome\": LogitLasso(max_iter=10_000)\n",
    "    },\n",
    "    \"ridge cv\": {\n",
    "        \"treatment\": LogisticRegressionCV(max_iter=5_000, penalty=\"l2\"),\n",
    "        \"outcome\": RidgeCV()\n",
    "    },\n",
    "    \"lasso cv\": {\n",
    "        \"treatment\": LogisticRegressionCV(max_iter=5_000, penalty=\"l1\", solver=\"liblinear\"),\n",
    "        \"outcome\": LassoCV(max_iter=5_000)\n",
    "    },\n",
    "    \"random forest\": {\n",
    "        \"treatment\": RandomForestRegressor(n_estimators=500, min_samples_split=5),\n",
    "        \"outcome\": RandomForestRegressor(n_estimators=500, min_samples_split=5)\n",
    "    },\n",
    "    \"gradient boosting\": {\n",
    "        \"treatment\": GradientBoostingRegressor(n_estimators=500, min_samples_split=5),\n",
    "        \"outcome\": GradientBoostingRegressor(n_estimators=500, min_samples_split=5)\n",
    "    },\n",
    "}"
   ]
  },
  {
   "cell_type": "markdown",
   "metadata": {},
   "source": [
    "# Double ML with cross-fitting"
   ]
  },
  {
   "cell_type": "code",
   "execution_count": 17,
   "metadata": {},
   "outputs": [
    {
     "name": "stderr",
     "output_type": "stream",
     "text": [
      " 40%|████      | 2/5 [01:18<01:58, 39.45s/it]/var/folders/2g/fw85b20s4zl1k7229pd39y5c0000gn/T/ipykernel_8264/3632210498.py:23: RuntimeWarning: Mean of empty slice.\n",
      "  pi = d.mean()\n",
      "/Users/jeremylhour/opt/anaconda3/envs/ml4econometrics/lib/python3.12/site-packages/numpy/core/_methods.py:129: RuntimeWarning: invalid value encountered in scalar divide\n",
      "  ret = ret.dtype.type(ret / rcount)\n",
      " 60%|██████    | 3/5 [02:06<01:26, 43.19s/it]/var/folders/2g/fw85b20s4zl1k7229pd39y5c0000gn/T/ipykernel_8264/3632210498.py:23: RuntimeWarning: Mean of empty slice.\n",
      "  pi = d.mean()\n",
      "/Users/jeremylhour/opt/anaconda3/envs/ml4econometrics/lib/python3.12/site-packages/numpy/core/_methods.py:129: RuntimeWarning: invalid value encountered in scalar divide\n",
      "  ret = ret.dtype.type(ret / rcount)\n",
      " 80%|████████  | 4/5 [02:58<00:46, 46.79s/it]/var/folders/2g/fw85b20s4zl1k7229pd39y5c0000gn/T/ipykernel_8264/3632210498.py:23: RuntimeWarning: Mean of empty slice.\n",
      "  pi = d.mean()\n",
      "/Users/jeremylhour/opt/anaconda3/envs/ml4econometrics/lib/python3.12/site-packages/numpy/core/_methods.py:129: RuntimeWarning: invalid value encountered in scalar divide\n",
      "  ret = ret.dtype.type(ret / rcount)\n",
      "100%|██████████| 5/5 [03:36<00:00, 43.25s/it]\n"
     ]
    }
   ],
   "source": [
    "gamma = {}\n",
    "for k in tqdm(range(1, n_folds + 1)):\n",
    "    # Partition according to the group\n",
    "    Ik = (cvgroup == k)\n",
    "    NIk = (cvgroup != k)\n",
    "\n",
    "    # Fit and predict for each method\n",
    "    for method, v in estimators.items():\n",
    "        v[\"treatment\"].fit(X[NIk], d[NIk])\n",
    "        if hasattr(v[\"treatment\"], \"predict_proba\"):\n",
    "            d_hat = v[\"treatment\"].predict_proba(X[Ik])[:, 1]\n",
    "        else:\n",
    "            d_hat = v[\"treatment\"].predict(X[Ik])\n",
    "        cs = (d_hat >= .01) & (d_hat <= .99)\n",
    "\n",
    "        v[\"outcome\"].fit(X[NIk], y[NIk])\n",
    "        y_hat = v[\"treatment\"].predict(X[Ik])\n",
    "\n",
    "        if k == 1:\n",
    "            gamma[method] = [att(y[Ik], d[Ik], y_hat, d_hat, group_idx=cs)]\n",
    "        else:\n",
    "            gamma[method].append(att(y[Ik], d[Ik], y_hat, d_hat, group_idx=cs))\n",
    "\n",
    "gamma = pd.DataFrame({k: np.concatenate(v) for k, v in gamma.items()})\n"
   ]
  },
  {
   "cell_type": "code",
   "execution_count": 14,
   "metadata": {},
   "outputs": [
    {
     "data": {
      "text/html": [
       "<div>\n",
       "<style scoped>\n",
       "    .dataframe tbody tr th:only-of-type {\n",
       "        vertical-align: middle;\n",
       "    }\n",
       "\n",
       "    .dataframe tbody tr th {\n",
       "        vertical-align: top;\n",
       "    }\n",
       "\n",
       "    .dataframe thead th {\n",
       "        text-align: right;\n",
       "    }\n",
       "</style>\n",
       "<table border=\"1\" class=\"dataframe\">\n",
       "  <thead>\n",
       "    <tr style=\"text-align: right;\">\n",
       "      <th></th>\n",
       "      <th>farrell (2015)</th>\n",
       "      <th>ridge cv</th>\n",
       "      <th>lasso cv</th>\n",
       "    </tr>\n",
       "  </thead>\n",
       "  <tbody>\n",
       "    <tr>\n",
       "      <th>ATT</th>\n",
       "      <td>2820.433015</td>\n",
       "      <td>838.941620</td>\n",
       "      <td>-5916.537155</td>\n",
       "    </tr>\n",
       "    <tr>\n",
       "      <th>std</th>\n",
       "      <td>1697.226621</td>\n",
       "      <td>977.934513</td>\n",
       "      <td>914.026496</td>\n",
       "    </tr>\n",
       "    <tr>\n",
       "      <th>effective sample size</th>\n",
       "      <td>1084.000000</td>\n",
       "      <td>1510.000000</td>\n",
       "      <td>2360.000000</td>\n",
       "    </tr>\n",
       "  </tbody>\n",
       "</table>\n",
       "</div>"
      ],
      "text/plain": [
       "                       farrell (2015)     ridge cv     lasso cv\n",
       "ATT                       2820.433015   838.941620 -5916.537155\n",
       "std                       1697.226621   977.934513   914.026496\n",
       "effective sample size     1084.000000  1510.000000  2360.000000"
      ]
     },
     "execution_count": 14,
     "metadata": {},
     "output_type": "execute_result"
    }
   ],
   "source": [
    "table = {\n",
    "    'ATT': gamma.mean(),\n",
    "    'std': gamma.std() / np.sqrt(gamma.notna().sum()),\n",
    "    'effective sample size': gamma.notna().sum()\n",
    "}\n",
    "pd.DataFrame(table).T"
   ]
  },
  {
   "cell_type": "code",
   "execution_count": null,
   "metadata": {},
   "outputs": [],
   "source": []
  }
 ],
 "metadata": {
  "kernelspec": {
   "display_name": "ml4econometrics",
   "language": "python",
   "name": "python3"
  },
  "language_info": {
   "codemirror_mode": {
    "name": "ipython",
    "version": 3
   },
   "file_extension": ".py",
   "mimetype": "text/x-python",
   "name": "python",
   "nbconvert_exporter": "python",
   "pygments_lexer": "ipython3",
   "version": "3.12.0"
  }
 },
 "nbformat": 4,
 "nbformat_minor": 2
}
