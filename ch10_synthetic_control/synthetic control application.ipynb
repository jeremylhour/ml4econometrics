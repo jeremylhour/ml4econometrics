{
 "cells": [
  {
   "cell_type": "markdown",
   "metadata": {},
   "source": [
    "# Synthetic control method: Californian tobacco law\n",
    "\n",
    "May 12, 2024\n",
    "\n",
    "@author : jeremylhour\n",
    "\n",
    "NB : before running this notebook, please launch \"synth_setup.sh\" that downloads Abadie et al. (2010) data in the folder data/MLAB_data.txt"
   ]
  },
  {
   "cell_type": "code",
   "execution_count": null,
   "metadata": {
    "vscode": {
     "languageId": "r"
    }
   },
   "outputs": [],
   "source": [
    "rm(list=ls())\n",
    "\n",
    "packageList = c('numDeriv','Synth')\n",
    "#for(pack in packageList) install.packages(pack)\n",
    "lapply(packageList, require, character.only = TRUE)"
   ]
  },
  {
   "cell_type": "markdown",
   "metadata": {},
   "source": [
    "# DATA"
   ]
  },
  {
   "cell_type": "markdown",
   "metadata": {},
   "source": [
    "## Formating the data"
   ]
  },
  {
   "cell_type": "code",
   "execution_count": null,
   "metadata": {
    "vscode": {
     "languageId": "r"
    }
   },
   "outputs": [],
   "source": [
    "DATA_PATH = '../data/MLAB_data.txt'\n",
    "\n",
    "data = data.frame(t(read.table(DATA_PATH)))\n",
    "\n",
    "smokeNames = mapply(function(x) paste(\"SmokingCons\", x, sep=\"\"), 1970:2000) # Tobacco consumption variable names\n",
    "                    \n",
    "names = c(\n",
    "    \"State_ID\",\n",
    "    \"Income\",\n",
    "    \"RetailPrice\",\n",
    "    \"Young\",\n",
    "    \"BeerCons\",\n",
    "    \"Smoking1988\",\n",
    "    \"Smoking1980\",\n",
    "    \"Smoking1975\",\n",
    "    smokeNames\n",
    ")\n",
    "colnames(data) = names\n",
    "\n",
    "stateNames = c('Alabama', 'Arkansas','Colorado','Connecticut','Delaware',\n",
    "               'Georgia',  'Idaho',  'Illinois',  'Indiana', 'Iowa', 'Kansas',\n",
    "               'Kentucky', 'Louisiana', 'Maine', 'Minnesota', 'Mississippi',\n",
    "               'Missouri', 'Montana', 'Nebraska', 'Nevada', 'New Hampshire',\n",
    "               'New Mexico', 'North Carolina', 'North Dakota', 'Ohio', 'Oklahoma',\n",
    "               'Pennsylvania', 'Rhode Island', 'South Carolina', 'South Dakota',\n",
    "               'Tennessee', 'Texas', 'Utah', 'Vermont', 'Virginia' , 'West Virginia',\n",
    "               'Wisconsin', 'Wyoming', 'California')\n",
    "rownames(data) = stateNames\n",
    "data[, \"Treated\"] = as.numeric(data[,\"State_ID\"]==3) # California is state with id = 3\n",
    "                  \n",
    "head(data)"
   ]
  },
  {
   "cell_type": "markdown",
   "metadata": {},
   "source": [
    "## FIGURE 10.3"
   ]
  },
  {
   "cell_type": "code",
   "execution_count": null,
   "metadata": {
    "vscode": {
     "languageId": "r"
    }
   },
   "outputs": [],
   "source": [
    "plotdata = ts(cbind(unlist(data[data[,\"Treated\"]==1, smokeNames]),\n",
    "                    unlist(apply(data[data[,\"Treated\"]==0, smokeNames], 2, mean))),start=c(1970), freq=1)\n",
    "\n",
    "plot(plotdata, plot.type=\"single\",\n",
    "     col=c(\"steelblue\",\"firebrick\"), lwd=2,\n",
    "     lty=c(1, 6),xlab=\"\", ylab=\"Tobacco consumption (packs per capita)\",\n",
    "     ylim=c(35,150))\n",
    "lim <- par(\"usr\")\n",
    "rect(1988, lim[3], lim[2], lim[4], col = rgb(0.5,0.5,0.5,1/4))\n",
    "axis(1) ## add axes back\n",
    "axis(2)\n",
    "box() \n",
    "legend(1971,80,\n",
    "       legend=c(\"California\", \"Other states\"),\n",
    "       col=c(\"steelblue\",\"firebrick\"), lwd=2,\n",
    "       lty=c(1,6))"
   ]
  },
  {
   "cell_type": "markdown",
   "metadata": {},
   "source": [
    "We can observe that tobacco consumption per capita in California is significantly lower than the average of other states, and tends to decrease more rapidly. There is clearly no common trend."
   ]
  },
  {
   "cell_type": "code",
   "execution_count": null,
   "metadata": {
    "vscode": {
     "languageId": "r"
    }
   },
   "outputs": [],
   "source": [
    "# SAVE\n",
    "jpeg(\"output/Fig_10_3.jpg\", res=300, width = 15, height = 15, units=\"cm\")\n",
    "plot(plotdata, plot.type=\"single\",\n",
    "     col=c(\"black\",\"black\"), lwd=2,\n",
    "     lty=c(1, 2),xlab=\"\", ylab=\"Tobacco consumption (packs per capita)\",\n",
    "     ylim=c(35, 150))\n",
    "lim <- par(\"usr\")\n",
    "rect(1988, lim[3], lim[2], lim[4], col = rgb(0.5,0.5,0.5,1/4))\n",
    "axis(1) ## add axes back\n",
    "axis(2)\n",
    "box() \n",
    "legend(1971,80,\n",
    "       legend=c(\"California\", \"Other states (average)\"),\n",
    "       col=c(\"black\", \"black\"), lwd=2,\n",
    "       lty=c(1, 2))\n",
    "dev.off()"
   ]
  },
  {
   "cell_type": "markdown",
   "metadata": {},
   "source": [
    "# ESTIMATION"
   ]
  },
  {
   "cell_type": "markdown",
   "metadata": {},
   "source": [
    "## Compute the solution"
   ]
  },
  {
   "cell_type": "code",
   "execution_count": null,
   "metadata": {
    "vscode": {
     "languageId": "r"
    }
   },
   "outputs": [],
   "source": [
    "X1 = t(data[data[,\"Treated\"]==1, c(\"Income\", \"RetailPrice\", \"Young\", \"BeerCons\", \"Smoking1988\",\"Smoking1980\",\"Smoking1975\")])\n",
    "X0 = t(data[data[,\"Treated\"]==0, c(\"Income\", \"RetailPrice\", \"Young\", \"BeerCons\", \"Smoking1988\",\"Smoking1980\",\"Smoking1975\")])\n",
    "\n",
    "Z1 = t(data[data[,\"Treated\"]==1, mapply(function(x) paste(\"SmokingCons\", x, sep=\"\"), 1970:1988)])\n",
    "Z0 = t(data[data[,\"Treated\"]==0, mapply(function(x) paste(\"SmokingCons\", x, sep=\"\"), 1970:1988)])\n",
    "\n",
    "solution = synth(X1=X1,\n",
    "                 X0=X0,\n",
    "                 Z0=Z0,\n",
    "                 Z1=Z1,\n",
    "                 custom.v = NULL,\n",
    "                 optimxmethod = \"Nelder-Mead\",\n",
    "                 verbose=TRUE)       \n",
    "                                 \n",
    "W = solution$solution.w\n",
    "print(round(W, 3))\n",
    "                                        \n",
    "V_sol = solution$solution.v"
   ]
  },
  {
   "cell_type": "markdown",
   "metadata": {},
   "source": [
    "On peut constater qu'aux erreurs numériques près, on reproduit bien les résultats d'Abadie et al. (2010)."
   ]
  },
  {
   "cell_type": "markdown",
   "metadata": {},
   "source": [
    "## Table 10.2 and figure 10.4"
   ]
  },
  {
   "cell_type": "code",
   "execution_count": null,
   "metadata": {
    "vscode": {
     "languageId": "r"
    }
   },
   "outputs": [],
   "source": [
    "tableau1 = round(cbind(X1, X0%*%W ,apply(X0, 1, mean)), 1)\n",
    "colnames(tableau1) = c(\"California\", \"Synthetic California\", \"Average of 38 other states\")\n",
    "print(tableau1)\n",
    "\n",
    "write.table(tableau1, \"output/tableau1.txt\", append = FALSE, quote = FALSE, sep = \" & \",\n",
    "            eol = paste(\" \\\\\\\\ \\n\"), na = \"--\", dec = \".\", row.names = T,\n",
    "            col.names = T)"
   ]
  },
  {
   "cell_type": "markdown",
   "metadata": {},
   "source": [
    "We also replicate the results from Table 1. We observe that the synthetic California provides a much better counterfactual than the simple average of the other states."
   ]
  },
  {
   "cell_type": "code",
   "execution_count": null,
   "metadata": {
    "vscode": {
     "languageId": "r"
    }
   },
   "outputs": [],
   "source": [
    "# FIG 2\n",
    "plotdata = ts(cbind(unlist(data[data[,\"Treated\"]==1, smokeNames]),\n",
    "                    unlist(t(as.matrix(data[data[,\"Treated\"]==0, smokeNames]))%*%W)),start=c(1970), freq=1)\n",
    "\n",
    "\n",
    "plot(plotdata, plot.type=\"single\",\n",
    "     col=c(\"steelblue\",\"firebrick\"), lwd=2,\n",
    "     lty=c(1, 6),xlab=\"\", ylab=\"Tobacco consumption (packs per capita)\",\n",
    "     ylim=c(35,150))\n",
    "lim <- par(\"usr\")\n",
    "rect(1988, lim[3], lim[2], lim[4], col = rgb(0.5,0.5,0.5,1/4))\n",
    "axis(1) ## add axes back\n",
    "axis(2)\n",
    "box() \n",
    "legend(1971,80,\n",
    "       legend=c(\"California\", \"Synthetic California\"),\n",
    "       col=c(\"steelblue\",\"firebrick\"), lwd=2,\n",
    "       lty=c(1,6))\n",
    "\n",
    "# FIG 3\n",
    "treatmentEffect_hat = data[data[,\"Treated\"]==1, smokeNames] - t(as.matrix(data[data[,\"Treated\"]==0, smokeNames]))%*%W\n",
    "treatmentPlot = ts(unlist(treatmentEffect_hat),start=c(1970), freq=1)\n",
    "\n",
    "plot(treatmentPlot, plot.type=\"single\",\n",
    "     col=c(\"steelblue\"), lwd=2,\n",
    "     lty=c(1),xlab=\"\", ylab=\"Tobacco consumption (packs per capita)\",\n",
    "     ylim=c(-30,30))\n",
    "abline(h=0, lty=c(1))\n",
    "lim <- par(\"usr\")\n",
    "rect(1988, lim[3], lim[2], lim[4], col = rgb(0.5,0.5,0.5,1/4))\n",
    "axis(1) ## add axes back\n",
    "axis(2)\n",
    "box() \n",
    "legend(1971,80,\n",
    "       legend=c(\"Treatment effect\"),\n",
    "       col=c(\"steelblue\"), lwd=2,\n",
    "       lty=c(1,6))"
   ]
  },
  {
   "cell_type": "code",
   "execution_count": null,
   "metadata": {
    "vscode": {
     "languageId": "r"
    }
   },
   "outputs": [],
   "source": [
    "# SAVE\n",
    "jpeg(\"output/Fig_10_4.jpg\", res=300, width = 30, height = 15, units=\"cm\")\n",
    "par(mfrow=c(1,2))\n",
    "plot(plotdata, plot.type=\"single\",\n",
    "     col=c(\"black\", \"black\"), lwd=2,\n",
    "     lty=c(1, 2),xlab=\"\", ylab=\"Tobacco consumption (packs per capita)\",\n",
    "     ylim=c(35, 150))\n",
    "lim <- par(\"usr\")\n",
    "rect(1988, lim[3], lim[2], lim[4], col = rgb(0.5,0.5,0.5,1/4))\n",
    "axis(1) ## add axes back\n",
    "axis(2)\n",
    "box() \n",
    "legend(1971, 60,\n",
    "       legend=c(\"California\", \"Synthetic California\"),\n",
    "       col=c(\"black\",\"black\"), lwd=2,\n",
    "       lty=c(1, 2))\n",
    "\n",
    "plot(treatmentPlot, plot.type=\"single\",\n",
    "     col=c(\"black\"), lwd=2,\n",
    "     lty=c(1),xlab=\"\", ylab=\"Tobacco consumption (packs per capita)\",\n",
    "     ylim=c(-30,30))\n",
    "abline(h=0, lty=c(1))\n",
    "lim <- par(\"usr\")\n",
    "rect(1988, lim[3], lim[2], lim[4], col = rgb(0.5,0.5,0.5,1/4))\n",
    "axis(1) ## add axes back\n",
    "axis(2)\n",
    "box() \n",
    "legend(1971,80,\n",
    "       legend=c(\"Treatment effect\"),\n",
    "       col=c(\"black\"), lwd=2,\n",
    "       lty=c(1))\n",
    "dev.off()"
   ]
  },
  {
   "cell_type": "markdown",
   "metadata": {},
   "source": [
    "# INFERENCE"
   ]
  },
  {
   "cell_type": "markdown",
   "metadata": {},
   "source": [
    "## Test"
   ]
  },
  {
   "cell_type": "code",
   "execution_count": null,
   "metadata": {
    "vscode": {
     "languageId": "r"
    }
   },
   "outputs": [],
   "source": [
    "# We do as if every state is treated\n",
    "contrefactuels = matrix(nrow=nrow(data), ncol=length(smokeNames))\n",
    "weights = matrix(nrow=nrow(data), ncol=nrow(data)-1)\n",
    "\n",
    "for(i in data[, \"State_ID\"]){\n",
    "    print(paste('Contrefactual computation for state', i))\n",
    "    \n",
    "    # setting up the matrices\n",
    "    X1 = t(data[data[, \"State_ID\"]==i, c(\"Income\", \"RetailPrice\", \"Young\", \"BeerCons\", \"Smoking1988\", \"Smoking1980\", \"Smoking1975\")])\n",
    "    X0 = t(data[data[, \"State_ID\"]!=i, c(\"Income\", \"RetailPrice\", \"Young\", \"BeerCons\", \"Smoking1988\", \"Smoking1980\", \"Smoking1975\")])\n",
    "\n",
    "    Z1 = t(data[data[, \"State_ID\"]==i, mapply(function(x) paste(\"SmokingCons\", x, sep=\"\"), 1970:1988)])\n",
    "    Z0 = t(data[data[, \"State_ID\"]!=i, mapply(function(x) paste(\"SmokingCons\", x, sep=\"\"), 1970:1988)])\n",
    "    \n",
    "    # Compute weights\n",
    "    error = FALSE\n",
    "    tryCatch({\n",
    "        sol = synth(X1=X1, X0=X0, Z0=Z0, Z1=Z1, V=V_sol, optimxmethod = \"Nelder-Mead\", verbose=FALSE)\n",
    "    }, error = function(e){\n",
    "        error = TRUE\n",
    "    })\n",
    "                                              \n",
    "    if(error){\n",
    "        print('Error for this state')\n",
    "    } else {\n",
    "    W = sol$solution.w\n",
    "    weights[i,] = W\n",
    "\n",
    "    # Compute counterfactual\n",
    "    contrefactuels[i,] = t(as.matrix(data[data[, \"State_ID\"]!=i, smokeNames]))%*%W  \n",
    "    }                     \n",
    "}"
   ]
  },
  {
   "cell_type": "code",
   "execution_count": null,
   "metadata": {
    "vscode": {
     "languageId": "r"
    }
   },
   "outputs": [],
   "source": [
    "print(paste(rep(\"=\", 80), collapse=\"\"))\n",
    "print(\"STATS : MSPE AND MSPE RATIO\")\n",
    "print(paste(rep(\"=\", 80), collapse=\"\"))\n",
    "\n",
    "# Calcul des statistiques de test\n",
    "testStats = data.frame()\n",
    "preTreatment = mapply(function(x) paste(\"SmokingCons\", x, sep=\"\"), 1970:1988)\n",
    "postTreatment = mapply(function(x) paste(\"SmokingCons\", x, sep=\"\"), 1989:2000)\n",
    "                       \n",
    "for(i in data[, 'State_ID']){ \n",
    "    TE = data[data[, 'State_ID']==i, smokeNames] - contrefactuels[i,]\n",
    "    testStats[i, \"MSPE\"] = apply(TE[postTreatment]^2, 1, mean)\n",
    "    testStats[i, \"MSPE_ratio\"] = apply(TE[postTreatment]^2, 1, mean) / apply(TE[preTreatment]^2, 1, mean)\n",
    "}\n",
    "\n",
    "rownames(testStats) = rownames(data[order(data[,\"State_ID\"]),])\n",
    "\n",
    "hist(testStats[,'MSPE'],\n",
    "     breaks=38,\n",
    "     main=\"\",\n",
    "    xlab=\"MSPE\",\n",
    "    col=c(rep(\"white\", 7), \"steelblue\", rep(\"white\", 20)))\n",
    "\n",
    "hist(testStats[,'MSPE_ratio'],\n",
    "     breaks=38,\n",
    "    main=\"\",\n",
    "    xlab=\"post-treatment / pre-treatment MSPE ratio\",\n",
    "    col=c(rep(\"white\", 24), \"steelblue\"))\n",
    "\n",
    "\n",
    "print(paste(\"MSPE, p-value :\", round(mean(testStats[,'MSPE'] >= testStats[3,'MSPE']),3)))\n",
    "print(paste(\"MSPE ratio, p-value :\", round(mean(testStats[,'MSPE_ratio'] >= testStats[3,'MSPE_ratio']), 3)))"
   ]
  },
  {
   "cell_type": "code",
   "execution_count": null,
   "metadata": {
    "vscode": {
     "languageId": "r"
    }
   },
   "outputs": [],
   "source": [
    "jpeg(\"output/Fig_10_5.jpg\", res=300, width = 30, height = 15, units=\"cm\")\n",
    "par(mfrow=c(1,2))\n",
    "hist(testStats[,'MSPE'],\n",
    "     breaks=38,\n",
    "     main=\"\",\n",
    "    xlab=\"MSPE\",\n",
    "    col=c(rep(\"white\", 7), \"darkgrey\", rep(\"white\", 20)))\n",
    "\n",
    "hist(testStats[,'MSPE_ratio'],\n",
    "     breaks=38,\n",
    "    main=\"\",\n",
    "    xlab=\"post-treatment / pre-treatment MSPE ratio\",\n",
    "    col=c(rep(\"white\", 24), \"darkgrey\"))\n",
    "dev.off()\n",
    "\n"
   ]
  },
  {
   "cell_type": "markdown",
   "metadata": {},
   "source": [
    "## Confidence intervals"
   ]
  },
  {
   "cell_type": "code",
   "execution_count": null,
   "metadata": {
    "vscode": {
     "languageId": "r"
    }
   },
   "outputs": [],
   "source": [
    "compute.pval <- function(data, outcome, Wsol, C){\n",
    "    #' Function to compute p-value at each date\n",
    "    #' Use the ATE as the statistics\n",
    "    #' @param data: the dataframe\n",
    "    #' @param outcome: tobacco consumption for that year, SmokingConsXXXX\n",
    "    #' @param Wsol: the weights\n",
    "    #' @param C: the constant of the null hypothesis\n",
    "    \n",
    "    theta.reshuffled = vector(length=nrow(data))\n",
    "    \n",
    "    for(i in data[, \"State_ID\"]){\n",
    "        newOutcome = data[, outcome] + as.numeric(i!=3)*C*(data[, \"State_ID\"]==i)  - as.numeric(i!=3)*C*(data[, \"State_ID\"]==3)\n",
    "        theta.reshuffled[i] = newOutcome[data[, \"State_ID\"]==i] - newOutcome[data[, \"State_ID\"]!=i]%*%weights[i,]\n",
    "    }\n",
    "    theta.obs = theta.reshuffled[3] # California id = 3\n",
    "    p.val = mean(abs(theta.reshuffled - C) >= abs(theta.obs-C))\n",
    "    return(list(p.val=p.val,\n",
    "                theta.reshuffled=theta.reshuffled))\n",
    "}\n",
    "\n",
    "compute.pval.MSPE.ratio <- function(data, outcomes, postTreatment, Wsol, C){\n",
    "    #' Function to compute p-value from MSPE ratio\n",
    "    #' @param data: the dataframe\n",
    "    #' @param outcomes: tobacco consumption\n",
    "    #' @param postTreatment: post-treatment period indicator\n",
    "    #' @param Wsol: the weights\n",
    "    #' @param C: the constant of the null hypothesis\n",
    "    \n",
    "    ratio.reshuffled = vector(length=nrow(data))\n",
    "    \n",
    "    for(i in data[, \"State_ID\"]){\n",
    "        TE = vector(length=length(outcomes))\n",
    "        for(t in 1:length(outcomes)){\n",
    "            if(outcomes[t] %in% postTreatment){\n",
    "                newOutcome = data[, outcomes[t]] + as.numeric(i!=3)*C*(data[, \"State_ID\"]==i)  - as.numeric(i!=3)*C*(data[, \"State_ID\"]==3)\n",
    "                TE[t] = newOutcome[data[, \"State_ID\"]==i] - newOutcome[data[, \"State_ID\"]!=i]%*%weights[i,] - C\n",
    "            } else {\n",
    "                newOutcome = data[, outcomes[t]]\n",
    "                TE[t] = newOutcome[data[, \"State_ID\"]==i] - newOutcome[data[, \"State_ID\"]!=i]%*%weights[i,]\n",
    "            }\n",
    "            \n",
    "        }\n",
    "        ratio.reshuffled[i] = mean(TE[outcomes %in% postTreatment]^2) / mean(TE[!(outcomes %in% postTreatment)]^2)\n",
    "    }\n",
    "    ratio.obs = ratio.reshuffled[3] # California id = 3\n",
    "    p.val = mean(ratio.reshuffled >= ratio.obs)\n",
    "    return(list(p.val=p.val,\n",
    "                ratio.reshuffled=ratio.reshuffled))\n",
    "}"
   ]
  },
  {
   "cell_type": "code",
   "execution_count": null,
   "metadata": {
    "vscode": {
     "languageId": "r"
    }
   },
   "outputs": [],
   "source": [
    "alpha = .2\n",
    "confidenceInterval = matrix(nrow=length(smokeNames), ncol=2)\n",
    "rownames(confidenceInterval) = smokeNames\n",
    "\n",
    "for(t in 1988:2000){\n",
    "    outcome = paste0('SmokingCons', t)\n",
    "    theta.obs = data[data[, 'State_ID']==3, outcome] - contrefactuels[3, smokeNames==outcome]\n",
    "    \n",
    "    # 1. Upper bound\n",
    "    # A. Looking for an initial value\n",
    "    res0 = compute.pval(data, outcome, weights, C=theta.obs)\n",
    "    b = max(res0$theta.reshuffled); eps = .01\n",
    "    repeat{\n",
    "        res0 = compute.pval(data, outcome, weights, C=b)\n",
    "        if(res0$p.val < alpha) break\n",
    "        res1 = compute.pval(data, outcome, weights, C=b+eps)\n",
    "        b = b + (alpha - res0$p.val) * eps / (res1$p.val - res0$p.val)\n",
    "    }\n",
    "    # B. Dichotomy\n",
    "    a = theta.obs\n",
    "    f_a = 1-alpha\n",
    "    repeat{\n",
    "        m = (a+b)/2\n",
    "        res = compute.pval(data, outcome, weights, C=m)\n",
    "        f_m = res$p.val - alpha\n",
    "        if(f_m*f_a > 0){\n",
    "            a = m\n",
    "            f_a = f_m\n",
    "        } else {\n",
    "            b = m\n",
    "        }\n",
    "        if(abs(b-a) < .001) break\n",
    "        }\n",
    "    Cu = (a+b)/2\n",
    "    \n",
    "    # 2. Lower bound\n",
    "    # A. Looking for an initial value\n",
    "    res0 = compute.pval(data, outcome, weights, C=theta.obs)\n",
    "    a = min(res0$theta.reshuffled)\n",
    "    repeat{\n",
    "        res0 = compute.pval(data, outcome, weights, C=a)\n",
    "        if(res0$p.val < alpha) break\n",
    "        res1 = compute.pval(data, outcome, weights, C=a-eps)\n",
    "        a = a + (alpha - res0$p.val) * eps / (res0$p.val - res1$p.val)\n",
    "    }\n",
    "    # B. Dichotomy\n",
    "    b = theta.obs\n",
    "    f_b = 1-alpha\n",
    "    repeat{\n",
    "        m = (a+b)/2\n",
    "        res = compute.pval(data, outcome, weights, C=m)\n",
    "        f_m = res$p.val - alpha\n",
    "        if(f_m*f_b > 0){\n",
    "            b = m\n",
    "            f_b = f_m\n",
    "        } else {\n",
    "            a = m\n",
    "        }\n",
    "        if(abs(b-a) < .001) break\n",
    "        }\n",
    "    Cl = (a+b)/2\n",
    "  \n",
    "    print(paste0(t, \": \", alpha,\" confidence interval: [\",round(Cl,2),\",\",round(Cu, 2),\"]\")) \n",
    "    confidenceInterval[outcome, ] = c(Cl, Cu)\n",
    "}"
   ]
  },
  {
   "cell_type": "code",
   "execution_count": null,
   "metadata": {
    "vscode": {
     "languageId": "r"
    }
   },
   "outputs": [],
   "source": [
    "alpha = .2\n",
    "\n",
    "# 1. Upper bound\n",
    "res0 = compute.pval.MSPE.ratio(data, outcomes=smokeNames, postTreatment=postTreatment, Wsol=weights, C=theta.obs)\n",
    "b = 0; eps = .01\n",
    "repeat{\n",
    "    res0 = compute.pval.MSPE.ratio(data, outcomes=smokeNames, postTreatment=postTreatment, Wsol=weights, C=b)\n",
    "    if(res0$p.val < alpha) break\n",
    "    res1 = compute.pval.MSPE.ratio(data, outcomes=smokeNames, postTreatment=postTreatment, Wsol=weights, C=b+eps)\n",
    "    b = b + (alpha - res0$p.val) * eps / (res1$p.val - res0$p.val)\n",
    "}\n",
    "a = mean(treatmentPlot)-10\n",
    "f_a = 1-alpha\n",
    "repeat{\n",
    "    m = (a+b)/2\n",
    "    res = compute.pval.MSPE.ratio(data, outcomes=smokeNames, postTreatment=postTreatment, Wsol=weights, C=m)\n",
    "    f_m = res$p.val - alpha\n",
    "    if(f_m*f_a > 0){\n",
    "        a = m\n",
    "        f_a = f_m\n",
    "    } else {\n",
    "        b = m\n",
    "    }\n",
    "    if(abs(b-a) < .001) break\n",
    "    }\n",
    "Cu = (a+b)/2\n",
    "\n",
    "# 2. Lower bound\n",
    "res0 = compute.pval.MSPE.ratio(data, outcomes=smokeNames, postTreatment=postTreatment, Wsol=weights, C=theta.obs)\n",
    "a = -50\n",
    "repeat{\n",
    "    res0 = compute.pval.MSPE.ratio(data, outcomes=smokeNames, postTreatment=postTreatment, Wsol=weights, C=a)\n",
    "    if(res0$p.val < alpha) break\n",
    "    res1 = compute.pval.MSPE.ratio(data, outcomes=smokeNames, postTreatment=postTreatment, Wsol=weights, C=a-eps)\n",
    "    a = a + (alpha - res0$p.val) * eps / (res0$p.val - res1$p.val)\n",
    "}\n",
    "b = -20\n",
    "f_b = 1-alpha\n",
    "repeat{\n",
    "    m = (a+b)/2\n",
    "    res = compute.pval.MSPE.ratio(data, outcomes=smokeNames, postTreatment=postTreatment, Wsol=weights, C=m)\n",
    "    f_m = res$p.val - alpha\n",
    "    if(f_m*f_b > 0){\n",
    "        b = m\n",
    "        f_b = f_m\n",
    "    } else {\n",
    "        a = m\n",
    "    }\n",
    "    if(abs(b-a) < .001) break\n",
    "    }\n",
    "Cl = (a+b)/2\n",
    "\n",
    "print(paste0(alpha,\" confidence interval : [\",round(Cl,2),\",\",round(Cu, 2),\"]\")) \n",
    "\n",
    "# Collecte des données pour le graphe\n",
    "confidenceInterval_global = matrix(rep(treatmentEffect_hat, 2), ncol=2)\n",
    "rownames(confidenceInterval_global) = smokeNames\n",
    "confidenceInterval_global[c('SmokingCons1988', postTreatment),1] = Cl\n",
    "confidenceInterval_global[c('SmokingCons1988', postTreatment),2] = Cu\n",
    "confidenceInterval_global[!(smokeNames %in% c('SmokingCons1988', postTreatment)),] = NA "
   ]
  },
  {
   "cell_type": "code",
   "execution_count": null,
   "metadata": {
    "vscode": {
     "languageId": "r"
    }
   },
   "outputs": [],
   "source": [
    "# FIG 4\n",
    "treatmentInferencePlot = ts(cbind(c(treatmentEffect_hat),\n",
    "                                  confidenceInterval[,1],\n",
    "                                  confidenceInterval[,2],\n",
    "                                  confidenceInterval_global[,1],\n",
    "                                  confidenceInterval_global[,2]), start=c(1970), freq=1)\n",
    "\n",
    "plot(treatmentInferencePlot,\n",
    "     plot.type=\"single\",\n",
    "     col=c(\"steelblue\", \"steelblue\", \"steelblue\", \"firebrick\", \"firebrick\"),\n",
    "     lwd=2,\n",
    "     lty= c(1, 3, 3, 6, 6),\n",
    "     xlab=\"\",\n",
    "     ylab=\"Tobacco consumption (packs per capita)\",\n",
    "     ylim=c(-60, 30))\n",
    "abline(h=0, lty=c(1))\n",
    "lim <- par(\"usr\")\n",
    "rect(1988, lim[3], lim[2], lim[4], col = rgb(0.5,0.5,0.5,1/4))\n",
    "axis(1) ## add axes back\n",
    "axis(2)\n",
    "box() \n",
    "legend(1971,-40,\n",
    "       legend=c(\"Treatment effect\", \"Confidence interval (point-wise)\", \"Confidence interval (global)\"),\n",
    "       col=c(\"steelblue\", \"steelblue\", \"firebrick\"), lwd=2,\n",
    "       lty=c(1,3,6))"
   ]
  },
  {
   "cell_type": "code",
   "execution_count": null,
   "metadata": {
    "vscode": {
     "languageId": "r"
    }
   },
   "outputs": [],
   "source": [
    "# SAVE FIG\n",
    "jpeg(\"output/Fig_10_6.jpg\",res=300, width = 15, height = 15, units=\"cm\")\n",
    "plot(treatmentInferencePlot,\n",
    "     plot.type=\"single\",\n",
    "     col=c(\"black\", \"black\", \"black\", \"black\", \"black\"),\n",
    "     lwd=2,\n",
    "     lty= c(1, 2, 2, 3, 3),\n",
    "     xlab=\"\",\n",
    "     ylab=\"Tobacco consumption (packs per capita)\",\n",
    "     ylim=c(-60, 30))\n",
    "abline(h=0, lty=c(1))\n",
    "lim <- par(\"usr\")\n",
    "rect(1988, lim[3], lim[2], lim[4], col = rgb(0.5,0.5,0.5,1/4))\n",
    "axis(1) ## add axes back\n",
    "axis(2)\n",
    "box() \n",
    "legend(1971,-40,\n",
    "       legend=c(\"Treatment effect\", \"80% CI (point-wise)\", \"80% CI (global)\"),\n",
    "       col=c(\"black\", \"black\", \"black\"), lwd=2,\n",
    "       lty=c(1,2,3))\n",
    "dev.off()"
   ]
  },
  {
   "cell_type": "markdown",
   "metadata": {},
   "source": [
    "## Using using Chernozhukov et al. (2017)'s procedure"
   ]
  },
  {
   "cell_type": "code",
   "execution_count": null,
   "metadata": {
    "vscode": {
     "languageId": "r"
    }
   },
   "outputs": [],
   "source": [
    "print(paste(rep(\"=\", 80), collapse=\"\"))\n",
    "print(\"Computing weights under CHERNOZHUKOV ET AL. (2017)\")\n",
    "print(paste(rep(\"=\", 80), collapse=\"\"))\n",
    "\n",
    "X1 = t(data[data[,\"Treated\"]==1, c(\"Income\", \"RetailPrice\", \"Young\", \"BeerCons\", \"Smoking1988\",\"Smoking1980\",\"Smoking1975\", smokeNames)])\n",
    "X0 = t(data[data[,\"Treated\"]==0, c(\"Income\", \"RetailPrice\", \"Young\", \"BeerCons\", \"Smoking1988\",\"Smoking1980\",\"Smoking1975\", smokeNames)])\n",
    "\n",
    "Z1 = t(data[data[,\"Treated\"]==1, mapply(function(x) paste(\"SmokingCons\", x, sep=\"\"), 1970:1988)])\n",
    "Z0 = t(data[data[,\"Treated\"]==0, mapply(function(x) paste(\"SmokingCons\", x, sep=\"\"), 1970:1988)])\n",
    "\n",
    "solution = synth(X1=X1,\n",
    "                 X0=X0,\n",
    "                 Z0=Z0,\n",
    "                 Z1=Z1,\n",
    "                 custom.v = NULL,\n",
    "                 optimxmethod = \"Nelder-Mead\",\n",
    "                 verbose=TRUE)   \n",
    "                                        \n",
    "W_conformal = solution$solution.w                             "
   ]
  },
  {
   "cell_type": "code",
   "execution_count": null,
   "metadata": {
    "vscode": {
     "languageId": "r"
    }
   },
   "outputs": [],
   "source": [
    "n_perm = 10000\n",
    "\n",
    "post_treat = smokeNames %in% mapply(function(x) paste(\"SmokingCons\", x, sep=\"\"), 1989:2000)\n",
    "u_hat = data[data[,\"Treated\"]==1, smokeNames] - t(as.matrix(data[data[,\"Treated\"]==0, smokeNames]))%*%W_conformal\n",
    "\n",
    "stat_obs = sum(abs(u_hat[post.ind])) # Statistique observée\n",
    "\n",
    "u_hat_p = matrix(unlist(replicate(n_perm, sample(u_hat, replace=F))), ncol=n_perm)\n",
    "stats_permut = apply(abs(u_hat_p[post_treat,]), 2, sum) # Statistiques permutation\n",
    "                                    \n",
    "conformal_pval = (1+sum(stats_permut>=stat_obs))/(n_perm+1)\n",
    "print(paste0(\"conformal inference p-value: \", round(conformal_pval, 3)))"
   ]
  },
  {
   "cell_type": "code",
   "execution_count": null,
   "metadata": {
    "vscode": {
     "languageId": "r"
    }
   },
   "outputs": [],
   "source": []
  }
 ],
 "metadata": {
  "kernelspec": {
   "display_name": "R",
   "language": "R",
   "name": "ir"
  },
  "language_info": {
   "codemirror_mode": "r",
   "file_extension": ".r",
   "mimetype": "text/x-r-source",
   "name": "R",
   "pygments_lexer": "r",
   "version": "4.3.0"
  }
 },
 "nbformat": 4,
 "nbformat_minor": 4
}
